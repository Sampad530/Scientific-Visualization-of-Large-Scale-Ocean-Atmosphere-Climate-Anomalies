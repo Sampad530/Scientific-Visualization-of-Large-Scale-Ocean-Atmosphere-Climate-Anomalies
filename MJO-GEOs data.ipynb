{
 "cells": [
  {
   "cell_type": "code",
   "execution_count": 1,
   "id": "f712a157",
   "metadata": {},
   "outputs": [],
   "source": [
    "import numpy as np\n",
    "import xarray as xr\n",
    "import pickle\n",
    "import napari\n",
    "from mpl_toolkits.basemap import Basemap\n",
    "from tqdm.notebook import tqdm\n",
    "import OpenVisus as ov\n",
    "import matplotlib.pyplot as plt\n",
    "from mpl_toolkits.axes_grid1 import make_axes_locatable\n",
    "import plotly.graph_objects as go\n",
    "import cartopy.crs as ccrs\n",
    "import cartopy.feature as cfeature\n",
    "import os\n",
    "from matplotlib.widgets import Slider, RadioButtons\n",
    "import matplotlib.colors as mcolors\n",
    "import matplotlib\n",
    "import logging\n",
    "import vtk\n",
    "from vtk.util.numpy_support import numpy_to_vtk\n",
    "matplotlib.use('Agg')\n",
    "\n",
    "os.environ['VISUS_CACHE']= \"./visus_can_be_deleted\""
   ]
  },
  {
   "cell_type": "markdown",
   "id": "8bea8c79",
   "metadata": {},
   "source": [
    "### Part 0: Preprocessing the lon and lat locations for later use"
   ]
  },
  {
   "cell_type": "code",
   "execution_count": 2,
   "id": "e67fe04e",
   "metadata": {},
   "outputs": [],
   "source": [
    "def downsample_latlon(latitudes, longitudes, target_shape):\n",
    "    factor_lat = latitudes.shape[0] // target_shape[0]\n",
    "    factor_lon = latitudes.shape[1] // target_shape[1]\n",
    "    latitudes_downsampled = latitudes[::factor_lat, ::factor_lon]\n",
    "    longitudes_downsampled = longitudes[::factor_lat, ::factor_lon]\n",
    "    return latitudes_downsampled, longitudes_downsampled"
   ]
  },
  {
   "cell_type": "code",
   "execution_count": 3,
   "id": "17a2d786",
   "metadata": {},
   "outputs": [],
   "source": [
    "temp = xr.open_dataset('geos_c1440_lats_lons_2D.nc')\n",
    "\n",
    "latitudes = temp['lats']\n",
    "longitudes = temp['lons']\n",
    "\n",
    "lat_shape = latitudes.shape\n",
    "lon_shape = longitudes.shape\n",
    "\n",
    "total_rows, total_cols = latitudes.shape\n",
    "\n",
    "faces_per_row = 3\n",
    "faces_per_col = 2\n",
    "face_rows = total_rows // faces_per_col\n",
    "face_cols = total_cols // faces_per_row\n",
    "\n",
    "lat_faces = []\n",
    "lon_faces = []\n",
    "\n",
    "for row in range(faces_per_col):\n",
    "    for col in range(faces_per_row):\n",
    "        start_row = row * face_rows\n",
    "        end_row = start_row + face_rows\n",
    "        start_col = col * face_cols\n",
    "        end_col = start_col + face_cols\n",
    "\n",
    "        lat_face = latitudes[start_row:end_row, start_col:end_col]\n",
    "        lon_face = longitudes[start_row:end_row, start_col:end_col]\n",
    "\n",
    "        lat_faces.append(lat_face)\n",
    "        lon_faces.append(lon_face)\n"
   ]
  },
  {
   "cell_type": "markdown",
   "id": "004770c5",
   "metadata": {},
   "source": [
    "### Part 1: Iterate to generate images by frame"
   ]
  },
  {
   "cell_type": "code",
   "execution_count": null,
   "id": "0f15d37d",
   "metadata": {},
   "outputs": [],
   "source": [
    "%%time\n",
    "def downsample_latlon(latitudes, longitudes, target_shape):\n",
    "    factor_lat = latitudes.shape[0] // target_shape[0]\n",
    "    factor_lon = latitudes.shape[1] // target_shape[1]\n",
    "    latitudes_downsampled = latitudes[::factor_lat, ::factor_lon]\n",
    "    longitudes_downsampled = longitudes[::factor_lat, ::factor_lon]\n",
    "    return latitudes_downsampled, longitudes_downsampled\n",
    "\n",
    "for t in tqdm(range(len(total_faces[0])), desc=\"Saving frames\"):\n",
    "    data_faces = []\n",
    "    for i in range(len(total_faces)):\n",
    "        data_faces.append(total_faces[i][t])\n",
    "\n",
    "    fig = plt.figure(figsize=(10, 8))\n",
    "    ax = plt.axes(projection=ccrs.PlateCarree())\n",
    "    ax.coastlines()\n",
    "    ax.add_feature(cfeature.BORDERS, linestyle=':')\n",
    "    ax.set_global()\n",
    "\n",
    "    num_faces = 6\n",
    "    face_size = latitudes.shape[0] // num_faces\n",
    "\n",
    "    all_lats = []\n",
    "    all_lons = []\n",
    "    all_vals = []\n",
    "\n",
    "    for i in range(num_faces):\n",
    "        lat_face = latitudes[i * face_size:(i + 1) * face_size, :].values\n",
    "        lon_face = longitudes[i * face_size:(i + 1) * face_size, :].values\n",
    "        data_face = data_faces[i][0, :, :]  # shape: (y, x)\n",
    "\n",
    "        lat_ds, lon_ds = downsample_latlon(lat_face, lon_face, data_face.shape)\n",
    "\n",
    "        if lat_ds.shape != data_face.shape:\n",
    "            print(f\"Skipping face {i} due to shape mismatch: {lat_ds.shape} vs {data_face.shape}\")\n",
    "            continue\n",
    "\n",
    "        all_lats.append(lat_ds.flatten())\n",
    "        all_lons.append(lon_ds.flatten())\n",
    "        all_vals.append(data_face.flatten())\n",
    "\n",
    "    merged_lat = np.concatenate(all_lats)\n",
    "    merged_lon = np.concatenate(all_lons)\n",
    "    merged_vals = np.concatenate(all_vals)\n",
    "\n",
    "    scatter = ax.scatter(\n",
    "        merged_lon,\n",
    "        merged_lat,\n",
    "        c=merged_vals,\n",
    "        cmap='cividis',\n",
    "        s=1,\n",
    "        alpha=0.5,\n",
    "        transform=ccrs.PlateCarree(),\n",
    "        vmin=vmin,\n",
    "        vmax=vmax\n",
    "    )  \n",
    "\n",
    "    gl = ax.gridlines(draw_labels=True, crs=ccrs.PlateCarree())\n",
    "    gl.xlabels_top = False\n",
    "    gl.ylabels_right = False\n",
    "    gl.xlines = False\n",
    "    gl.ylines = False\n",
    "    gl.xlabel_style = {'size': 10}\n",
    "    gl.ylabel_style = {'size': 10}\n",
    "    cbar = plt.colorbar(scatter, ax=ax, orientation='horizontal', pad=0.05)\n",
    "\n",
    "    os.makedirs(f'{variable}_images', exist_ok=True)\n",
    "\n",
    "    plt.savefig(f'{variable}_images/frame_{t:03d}.png')\n",
    "    plt.close(fig)\n",
    "    "
   ]
  },
  {
   "cell_type": "markdown",
   "id": "ca9f6f36",
   "metadata": {},
   "source": [
    "### Part 2: Preprocessing data for Paraview visualization\n",
    "#### 2-1: Load each data attributes of complete timesteps"
   ]
  },
  {
   "cell_type": "code",
   "execution_count": 33,
   "id": "bde669a8",
   "metadata": {
    "scrolled": true
   },
   "outputs": [
    {
     "data": {
      "application/vnd.jupyter.widget-view+json": {
       "model_id": "da08a594a3c84575bd124acbe9f106c9",
       "version_major": 2,
       "version_minor": 0
      },
      "text/plain": [
       "Loading U:   0%|          | 0/6 [00:00<?, ?it/s]"
      ]
     },
     "metadata": {},
     "output_type": "display_data"
    },
    {
     "data": {
      "application/vnd.jupyter.widget-view+json": {
       "model_id": "",
       "version_major": 2,
       "version_minor": 0
      },
      "text/plain": [
       "Weekly timesteps:   0%|          | 0/428 [00:00<?, ?it/s]"
      ]
     },
     "metadata": {},
     "output_type": "display_data"
    },
    {
     "data": {
      "application/vnd.jupyter.widget-view+json": {
       "model_id": "",
       "version_major": 2,
       "version_minor": 0
      },
      "text/plain": [
       "Weekly timesteps:   0%|          | 0/428 [00:00<?, ?it/s]"
      ]
     },
     "metadata": {},
     "output_type": "display_data"
    },
    {
     "data": {
      "application/vnd.jupyter.widget-view+json": {
       "model_id": "",
       "version_major": 2,
       "version_minor": 0
      },
      "text/plain": [
       "Weekly timesteps:   0%|          | 0/428 [00:00<?, ?it/s]"
      ]
     },
     "metadata": {},
     "output_type": "display_data"
    },
    {
     "data": {
      "application/vnd.jupyter.widget-view+json": {
       "model_id": "",
       "version_major": 2,
       "version_minor": 0
      },
      "text/plain": [
       "Weekly timesteps:   0%|          | 0/428 [00:00<?, ?it/s]"
      ]
     },
     "metadata": {},
     "output_type": "display_data"
    },
    {
     "data": {
      "application/vnd.jupyter.widget-view+json": {
       "model_id": "",
       "version_major": 2,
       "version_minor": 0
      },
      "text/plain": [
       "Weekly timesteps:   0%|          | 0/428 [00:00<?, ?it/s]"
      ]
     },
     "metadata": {},
     "output_type": "display_data"
    },
    {
     "data": {
      "application/vnd.jupyter.widget-view+json": {
       "model_id": "",
       "version_major": 2,
       "version_minor": 0
      },
      "text/plain": [
       "Weekly timesteps:   0%|          | 0/428 [00:00<?, ?it/s]"
      ]
     },
     "metadata": {},
     "output_type": "display_data"
    },
    {
     "data": {
      "application/vnd.jupyter.widget-view+json": {
       "model_id": "09d7c4947f5340eaa4cc9812e71d3874",
       "version_major": 2,
       "version_minor": 0
      },
      "text/plain": [
       "Time::   0%|          | 0/428 [00:00<?, ?it/s]"
      ]
     },
     "metadata": {},
     "output_type": "display_data"
    },
    {
     "name": "stdout",
     "output_type": "stream",
     "text": [
      "U done!\n"
     ]
    },
    {
     "data": {
      "application/vnd.jupyter.widget-view+json": {
       "model_id": "d6687697fd6242d8a7f00f6a1fffbae4",
       "version_major": 2,
       "version_minor": 0
      },
      "text/plain": [
       "Loading V:   0%|          | 0/6 [00:00<?, ?it/s]"
      ]
     },
     "metadata": {},
     "output_type": "display_data"
    },
    {
     "data": {
      "application/vnd.jupyter.widget-view+json": {
       "model_id": "",
       "version_major": 2,
       "version_minor": 0
      },
      "text/plain": [
       "Weekly timesteps:   0%|          | 0/428 [00:00<?, ?it/s]"
      ]
     },
     "metadata": {},
     "output_type": "display_data"
    },
    {
     "data": {
      "application/vnd.jupyter.widget-view+json": {
       "model_id": "",
       "version_major": 2,
       "version_minor": 0
      },
      "text/plain": [
       "Weekly timesteps:   0%|          | 0/428 [00:00<?, ?it/s]"
      ]
     },
     "metadata": {},
     "output_type": "display_data"
    },
    {
     "data": {
      "application/vnd.jupyter.widget-view+json": {
       "model_id": "",
       "version_major": 2,
       "version_minor": 0
      },
      "text/plain": [
       "Weekly timesteps:   0%|          | 0/428 [00:00<?, ?it/s]"
      ]
     },
     "metadata": {},
     "output_type": "display_data"
    },
    {
     "data": {
      "application/vnd.jupyter.widget-view+json": {
       "model_id": "",
       "version_major": 2,
       "version_minor": 0
      },
      "text/plain": [
       "Weekly timesteps:   0%|          | 0/428 [00:00<?, ?it/s]"
      ]
     },
     "metadata": {},
     "output_type": "display_data"
    },
    {
     "data": {
      "application/vnd.jupyter.widget-view+json": {
       "model_id": "",
       "version_major": 2,
       "version_minor": 0
      },
      "text/plain": [
       "Weekly timesteps:   0%|          | 0/428 [00:00<?, ?it/s]"
      ]
     },
     "metadata": {},
     "output_type": "display_data"
    },
    {
     "data": {
      "application/vnd.jupyter.widget-view+json": {
       "model_id": "",
       "version_major": 2,
       "version_minor": 0
      },
      "text/plain": [
       "Weekly timesteps:   0%|          | 0/428 [00:00<?, ?it/s]"
      ]
     },
     "metadata": {},
     "output_type": "display_data"
    },
    {
     "data": {
      "application/vnd.jupyter.widget-view+json": {
       "model_id": "98b8390a9cd144a18ebf0345125f6d92",
       "version_major": 2,
       "version_minor": 0
      },
      "text/plain": [
       "Time::   0%|          | 0/428 [00:00<?, ?it/s]"
      ]
     },
     "metadata": {},
     "output_type": "display_data"
    },
    {
     "name": "stdout",
     "output_type": "stream",
     "text": [
      "V done!\n"
     ]
    },
    {
     "data": {
      "application/vnd.jupyter.widget-view+json": {
       "model_id": "b99bbf936df840eaabd5608f82ca8cf4",
       "version_major": 2,
       "version_minor": 0
      },
      "text/plain": [
       "Loading W:   0%|          | 0/6 [00:00<?, ?it/s]"
      ]
     },
     "metadata": {},
     "output_type": "display_data"
    },
    {
     "data": {
      "application/vnd.jupyter.widget-view+json": {
       "model_id": "",
       "version_major": 2,
       "version_minor": 0
      },
      "text/plain": [
       "Weekly timesteps:   0%|          | 0/428 [00:00<?, ?it/s]"
      ]
     },
     "metadata": {},
     "output_type": "display_data"
    },
    {
     "data": {
      "application/vnd.jupyter.widget-view+json": {
       "model_id": "",
       "version_major": 2,
       "version_minor": 0
      },
      "text/plain": [
       "Weekly timesteps:   0%|          | 0/428 [00:00<?, ?it/s]"
      ]
     },
     "metadata": {},
     "output_type": "display_data"
    },
    {
     "data": {
      "application/vnd.jupyter.widget-view+json": {
       "model_id": "",
       "version_major": 2,
       "version_minor": 0
      },
      "text/plain": [
       "Weekly timesteps:   0%|          | 0/428 [00:00<?, ?it/s]"
      ]
     },
     "metadata": {},
     "output_type": "display_data"
    },
    {
     "data": {
      "application/vnd.jupyter.widget-view+json": {
       "model_id": "",
       "version_major": 2,
       "version_minor": 0
      },
      "text/plain": [
       "Weekly timesteps:   0%|          | 0/428 [00:00<?, ?it/s]"
      ]
     },
     "metadata": {},
     "output_type": "display_data"
    },
    {
     "data": {
      "application/vnd.jupyter.widget-view+json": {
       "model_id": "",
       "version_major": 2,
       "version_minor": 0
      },
      "text/plain": [
       "Weekly timesteps:   0%|          | 0/428 [00:00<?, ?it/s]"
      ]
     },
     "metadata": {},
     "output_type": "display_data"
    },
    {
     "data": {
      "application/vnd.jupyter.widget-view+json": {
       "model_id": "",
       "version_major": 2,
       "version_minor": 0
      },
      "text/plain": [
       "Weekly timesteps:   0%|          | 0/428 [00:00<?, ?it/s]"
      ]
     },
     "metadata": {},
     "output_type": "display_data"
    },
    {
     "data": {
      "application/vnd.jupyter.widget-view+json": {
       "model_id": "5d1f773c9dd5473b972f919ff5943cce",
       "version_major": 2,
       "version_minor": 0
      },
      "text/plain": [
       "Time::   0%|          | 0/428 [00:00<?, ?it/s]"
      ]
     },
     "metadata": {},
     "output_type": "display_data"
    },
    {
     "name": "stdout",
     "output_type": "stream",
     "text": [
      "W done!\n"
     ]
    },
    {
     "data": {
      "application/vnd.jupyter.widget-view+json": {
       "model_id": "bbc628ebfe0945a68b9abea58db85979",
       "version_major": 2,
       "version_minor": 0
      },
      "text/plain": [
       "Loading T:   0%|          | 0/6 [00:00<?, ?it/s]"
      ]
     },
     "metadata": {},
     "output_type": "display_data"
    },
    {
     "data": {
      "application/vnd.jupyter.widget-view+json": {
       "model_id": "",
       "version_major": 2,
       "version_minor": 0
      },
      "text/plain": [
       "Weekly timesteps:   0%|          | 0/428 [00:00<?, ?it/s]"
      ]
     },
     "metadata": {},
     "output_type": "display_data"
    },
    {
     "data": {
      "application/vnd.jupyter.widget-view+json": {
       "model_id": "",
       "version_major": 2,
       "version_minor": 0
      },
      "text/plain": [
       "Weekly timesteps:   0%|          | 0/428 [00:00<?, ?it/s]"
      ]
     },
     "metadata": {},
     "output_type": "display_data"
    },
    {
     "data": {
      "application/vnd.jupyter.widget-view+json": {
       "model_id": "",
       "version_major": 2,
       "version_minor": 0
      },
      "text/plain": [
       "Weekly timesteps:   0%|          | 0/428 [00:00<?, ?it/s]"
      ]
     },
     "metadata": {},
     "output_type": "display_data"
    },
    {
     "data": {
      "application/vnd.jupyter.widget-view+json": {
       "model_id": "",
       "version_major": 2,
       "version_minor": 0
      },
      "text/plain": [
       "Weekly timesteps:   0%|          | 0/428 [00:00<?, ?it/s]"
      ]
     },
     "metadata": {},
     "output_type": "display_data"
    },
    {
     "data": {
      "application/vnd.jupyter.widget-view+json": {
       "model_id": "",
       "version_major": 2,
       "version_minor": 0
      },
      "text/plain": [
       "Weekly timesteps:   0%|          | 0/428 [00:00<?, ?it/s]"
      ]
     },
     "metadata": {},
     "output_type": "display_data"
    },
    {
     "data": {
      "application/vnd.jupyter.widget-view+json": {
       "model_id": "",
       "version_major": 2,
       "version_minor": 0
      },
      "text/plain": [
       "Weekly timesteps:   0%|          | 0/428 [00:00<?, ?it/s]"
      ]
     },
     "metadata": {},
     "output_type": "display_data"
    },
    {
     "data": {
      "application/vnd.jupyter.widget-view+json": {
       "model_id": "be653d3b8f6b49d4b149afd8be02aa0c",
       "version_major": 2,
       "version_minor": 0
      },
      "text/plain": [
       "Time::   0%|          | 0/428 [00:00<?, ?it/s]"
      ]
     },
     "metadata": {},
     "output_type": "display_data"
    },
    {
     "name": "stdout",
     "output_type": "stream",
     "text": [
      "T done!\n"
     ]
    },
    {
     "data": {
      "application/vnd.jupyter.widget-view+json": {
       "model_id": "3e702f44363e44fdbd53d22d10490c02",
       "version_major": 2,
       "version_minor": 0
      },
      "text/plain": [
       "Loading FCLD:   0%|          | 0/6 [00:00<?, ?it/s]"
      ]
     },
     "metadata": {},
     "output_type": "display_data"
    },
    {
     "data": {
      "application/vnd.jupyter.widget-view+json": {
       "model_id": "",
       "version_major": 2,
       "version_minor": 0
      },
      "text/plain": [
       "Weekly timesteps:   0%|          | 0/428 [00:00<?, ?it/s]"
      ]
     },
     "metadata": {},
     "output_type": "display_data"
    },
    {
     "data": {
      "application/vnd.jupyter.widget-view+json": {
       "model_id": "",
       "version_major": 2,
       "version_minor": 0
      },
      "text/plain": [
       "Weekly timesteps:   0%|          | 0/428 [00:00<?, ?it/s]"
      ]
     },
     "metadata": {},
     "output_type": "display_data"
    },
    {
     "data": {
      "application/vnd.jupyter.widget-view+json": {
       "model_id": "",
       "version_major": 2,
       "version_minor": 0
      },
      "text/plain": [
       "Weekly timesteps:   0%|          | 0/428 [00:00<?, ?it/s]"
      ]
     },
     "metadata": {},
     "output_type": "display_data"
    },
    {
     "data": {
      "application/vnd.jupyter.widget-view+json": {
       "model_id": "",
       "version_major": 2,
       "version_minor": 0
      },
      "text/plain": [
       "Weekly timesteps:   0%|          | 0/428 [00:00<?, ?it/s]"
      ]
     },
     "metadata": {},
     "output_type": "display_data"
    },
    {
     "data": {
      "application/vnd.jupyter.widget-view+json": {
       "model_id": "",
       "version_major": 2,
       "version_minor": 0
      },
      "text/plain": [
       "Weekly timesteps:   0%|          | 0/428 [00:00<?, ?it/s]"
      ]
     },
     "metadata": {},
     "output_type": "display_data"
    },
    {
     "data": {
      "application/vnd.jupyter.widget-view+json": {
       "model_id": "",
       "version_major": 2,
       "version_minor": 0
      },
      "text/plain": [
       "Weekly timesteps:   0%|          | 0/428 [00:00<?, ?it/s]"
      ]
     },
     "metadata": {},
     "output_type": "display_data"
    },
    {
     "data": {
      "application/vnd.jupyter.widget-view+json": {
       "model_id": "46922e87904a447c85a7ce82fcff6632",
       "version_major": 2,
       "version_minor": 0
      },
      "text/plain": [
       "Time::   0%|          | 0/428 [00:00<?, ?it/s]"
      ]
     },
     "metadata": {},
     "output_type": "display_data"
    },
    {
     "name": "stdout",
     "output_type": "stream",
     "text": [
      "FCLD done!\n"
     ]
    }
   ],
   "source": [
    "variables = ['U', 'V', 'W', 'T', 'FCLD']#,'P']\n",
    "for variable in variables:\n",
    "    collection = {}\n",
    "    \n",
    "    data_file=[f\"https://maritime.sealstorage.io/api/v0/s3/utah/nasa/dyamond/GEOS/GEOS_{variable.upper()}/{variable.lower()}_face_0_depth_52_time_0_10269.idx?access_key=any&secret_key=any&endpoint_url=https://maritime.sealstorage.io/api/v0/s3&cached=arco\",\n",
    "              f\"https://maritime.sealstorage.io/api/v0/s3/utah/nasa/dyamond/GEOS/GEOS_{variable.upper()}/{variable.lower()}_face_1_depth_52_time_0_10269.idx?access_key=any&secret_key=any&endpoint_url=https://maritime.sealstorage.io/api/v0/s3&cached=arco\",\n",
    "              f\"https://maritime.sealstorage.io/api/v0/s3/utah/nasa/dyamond/GEOS/GEOS_{variable.upper()}/{variable.lower()}_face_2_depth_52_time_0_10269.idx?access_key=any&secret_key=any&endpoint_url=https://maritime.sealstorage.io/api/v0/s3&cached=arco\",\n",
    "              f\"https://maritime.sealstorage.io/api/v0/s3/utah/nasa/dyamond/GEOS/GEOS_{variable.upper()}/{variable.lower()}_face_3_depth_52_time_0_10269.idx?access_key=any&secret_key=any&endpoint_url=https://maritime.sealstorage.io/api/v0/s3&cached=arco\",\n",
    "              f\"https://maritime.sealstorage.io/api/v0/s3/utah/nasa/dyamond/GEOS/GEOS_{variable.upper()}/{variable.lower()}_face_4_depth_52_time_0_10269.idx?access_key=any&secret_key=any&endpoint_url=https://maritime.sealstorage.io/api/v0/s3&cached=arco\",\n",
    "              f\"https://maritime.sealstorage.io/api/v0/s3/utah/nasa/dyamond/GEOS/GEOS_{variable.upper()}/{variable.lower()}_face_5_depth_52_time_0_10269.idx?access_key=any&secret_key=any&endpoint_url=https://maritime.sealstorage.io/api/v0/s3&cached=arco\",]\n",
    "    total_faces = []\n",
    "    \n",
    "    for actual_file_path in tqdm(data_file, desc=f\"Loading {variable}\"):\n",
    "        db = ov.LoadDataset(actual_file_path)\n",
    "        data=[]\n",
    "        for i in tqdm(range(0, len(db.getTimesteps()), 24), desc=\"Weekly timesteps\", leave=False):\n",
    "            database = db.read(time=i,quality=-7)\n",
    "            data.append(database)\n",
    "        total_faces.append(data)\n",
    "        \n",
    "    depth = total_faces[0][0].shape[0]\n",
    "        \n",
    "    for t in tqdm(range(len(total_faces[0])), desc=f\"Time:\"):\n",
    "        for d in range(depth):\n",
    "            data_faces = []\n",
    "            for i in range(len(total_faces)):\n",
    "                data_faces.append(total_faces[i][t])\n",
    "\n",
    "            num_faces = 6\n",
    "            face_size = latitudes.shape[0] // num_faces       \n",
    "            if t==0 and d==0:\n",
    "                all_lats = []\n",
    "                all_lons = []\n",
    "                all_vals = []\n",
    "\n",
    "                for i in range(num_faces):\n",
    "                    lat_face = latitudes[i * face_size:(i + 1) * face_size, :].values\n",
    "                    lon_face = longitudes[i * face_size:(i + 1) * face_size, :].values\n",
    "                    data_face = data_faces[i][d, :, :]\n",
    "                    temp = data_faces[i]\n",
    "                    lat_ds, lon_ds = downsample_latlon(lat_face, lon_face, data_face.shape)\n",
    "                    if lat_ds.shape != data_face.shape:\n",
    "                        print(f\"Skipping face {i} due to shape mismatch: {lat_ds.shape} vs {data_face.shape}\")\n",
    "                        continue\n",
    "                    all_lats.append(lat_ds.flatten())\n",
    "                    all_lons.append(lon_ds.flatten())\n",
    "                    all_vals.append(data_face.flatten())\n",
    "\n",
    "                merged_lat = np.concatenate(all_lats)\n",
    "                merged_lon = np.concatenate(all_lons)\n",
    "                collection[f'{variable} lat'] = merged_lat\n",
    "                collection[f'{variable} lon'] = merged_lon\n",
    "                merged_vals = np.concatenate(all_vals)\n",
    "\n",
    "            else:\n",
    "                all_vals = []\n",
    "                for i in range(num_faces):\n",
    "                    data_face = data_faces[i][d, :, :]\n",
    "                    all_vals.append(data_face.flatten())\n",
    "                merged_vals = np.concatenate(all_vals)\n",
    "\n",
    "            collection[f'{variable} {d} {t}'] = np.copy(merged_vals)\n",
    "    \n",
    "    with open(f'{variable}.pkl', 'wb') as f:\n",
    "        pickle.dump(collection, f)\n",
    "    \n",
    "    print(f'{variable} done!')"
   ]
  },
  {
   "cell_type": "markdown",
   "id": "fec7cdec",
   "metadata": {},
   "source": [
    "#### 2-2: Assemble each file that has the same shape into one vtp file"
   ]
  },
  {
   "cell_type": "code",
   "execution_count": 38,
   "id": "6f62c5b1",
   "metadata": {},
   "outputs": [],
   "source": [
    "def add_vertex_cells(polydata):\n",
    "    \"\"\"\n",
    "    Add vertex cells to a vtkPolyData object to ensure each point is treated as an individual cell.\n",
    "\n",
    "    Parameters:\n",
    "    polydata (vtk.vtkPolyData): The polydata object to which vertex cells will be added.\n",
    "    \"\"\"\n",
    "    num_points = polydata.GetNumberOfPoints()\n",
    "    vertices = vtk.vtkCellArray()\n",
    "    for i in range(num_points):\n",
    "        vertex = vtk.vtkVertex()\n",
    "        vertex.GetPointIds().SetId(0, i)\n",
    "        vertices.InsertNextCell(vertex)\n",
    "    polydata.SetVerts(vertices)"
   ]
  },
  {
   "cell_type": "code",
   "execution_count": null,
   "id": "0685fc5d",
   "metadata": {},
   "outputs": [],
   "source": [
    "# Define variables\n",
    "variables = ['U', 'V']\n",
    "collections = {}\n",
    "\n",
    "# Load all variable data once\n",
    "for var in variables:\n",
    "    with open(f'{var}.pkl', 'rb') as file:\n",
    "        collections[var] = pickle.load(file)\n",
    "\n",
    "# Extract latitude and longitude from the 'U' collection\n",
    "lat = collections['U']['U lat']\n",
    "lon = collections['U']['U lon']\n",
    "\n",
    "# Determine dimensions\n",
    "num_depths = (len(collections['U']) - 2) // 428\n",
    "num_points = len(lat) * num_depths\n",
    "num_vars = len(variables)\n",
    "\n",
    "# Initialize holder array\n",
    "holder = np.full((num_points, 3 + num_vars), np.nan)\n",
    "\n",
    "# Populate static latitude, longitude, and depth information\n",
    "for d in range(num_depths):\n",
    "    start_idx = d * len(lat)\n",
    "    end_idx = (d + 1) * len(lat)\n",
    "    holder[start_idx:end_idx, 0] = lat\n",
    "    holder[start_idx:end_idx, 1] = lon\n",
    "    holder[start_idx:end_idx, 2] = d\n",
    "\n",
    "# Process each time step\n",
    "for t in tqdm(range(0, 428), desc=\"Processing time steps\", leave=True):\n",
    "    # Populate variable data for the current time step\n",
    "    for v, var in enumerate(variables):\n",
    "        collection = collections[var]\n",
    "        for d in range(num_depths):\n",
    "            start_idx = d * len(lat)\n",
    "            end_idx = (d + 1) * len(lat)\n",
    "            holder[start_idx:end_idx, v + 3] = collection[f'{var} {d} {t}']\n",
    "\n",
    "    # Create VTK points\n",
    "    vtk_points = vtk.vtkPoints()\n",
    "    vtk_points.SetData(numpy_to_vtk(holder[:, :3], deep=True))\n",
    "\n",
    "    # Create VTK polydata\n",
    "    polydata = vtk.vtkPolyData()\n",
    "    polydata.SetPoints(vtk_points)\n",
    "\n",
    "    # Add variable data to polydata\n",
    "    for v, var in enumerate(variables):\n",
    "        var_data = holder[:, v + 3]\n",
    "        vtk_array = numpy_to_vtk(var_data, deep=True)\n",
    "        vtk_array.SetName(var)\n",
    "        polydata.GetPointData().AddArray(vtk_array)\n",
    "\n",
    "    writer = vtk.vtkXMLPolyDataWriter()\n",
    "    writer.SetFileName(f\"./vtkp/series2_{t}.vtp\")\n",
    "    writer.SetInputData(polydata)\n",
    "    writer.Write()"
   ]
  },
  {
   "cell_type": "code",
   "execution_count": 39,
   "id": "e602ac29",
   "metadata": {},
   "outputs": [
    {
     "data": {
      "application/vnd.jupyter.widget-view+json": {
       "model_id": "0288b53be3694e60b180c71324230c5d",
       "version_major": 2,
       "version_minor": 0
      },
      "text/plain": [
       "Processing time steps:   0%|          | 0/428 [00:00<?, ?it/s]"
      ]
     },
     "metadata": {},
     "output_type": "display_data"
    }
   ],
   "source": [
    "variables = ['P', 'W', 'FCLD', 'T']\n",
    "collections = {}\n",
    "\n",
    "for var in variables:\n",
    "    with open(f'{var}.pkl', 'rb') as file:\n",
    "        collections[var] = pickle.load(file)\n",
    "\n",
    "# Extract latitude and longitude from the 'P' collection\n",
    "lat = collections['P']['P lat']\n",
    "lon = collections['P']['P lon']\n",
    "\n",
    "# Determine dimensions\n",
    "num_depths = (len(collections['P']) - 2) // 428\n",
    "num_points = len(lat) * num_depths\n",
    "num_vars = len(variables)\n",
    "\n",
    "# Initialize holder array\n",
    "holder = np.full((num_points, 3 + num_vars), np.nan)\n",
    "\n",
    "# Populate static latitude, longitude, and depth information\n",
    "for d in range(num_depths):\n",
    "    start_idx = d * len(lat)\n",
    "    end_idx = (d + 1) * len(lat)\n",
    "    holder[start_idx:end_idx, 0] = lat\n",
    "    holder[start_idx:end_idx, 1] = lon\n",
    "    holder[start_idx:end_idx, 2] = d\n",
    "\n",
    "# Process each time step\n",
    "for t in tqdm(range(428), desc=\"Processing time steps\", leave=True):\n",
    "    # Populate variable data for the current time step\n",
    "    for v, var in enumerate(variables):\n",
    "        collection = collections[var]\n",
    "        for d in range(num_depths):\n",
    "            start_idx = d * len(lat)\n",
    "            end_idx = (d + 1) * len(lat)\n",
    "            holder[start_idx:end_idx, v + 3] = collection[f'{var} {d} {t}']\n",
    "\n",
    "    # Create VTK points\n",
    "    vtk_points = vtk.vtkPoints()\n",
    "    vtk_points.SetData(numpy_to_vtk(holder[:, :3], deep=True))\n",
    "\n",
    "    # Create VTK polydata\n",
    "    polydata = vtk.vtkPolyData()\n",
    "    polydata.SetPoints(vtk_points)\n",
    "\n",
    "    add_vertex_cells(polydata)\n",
    "    \n",
    "    # Add variable data to polydata\n",
    "    for v, var in enumerate(variables):\n",
    "        var_data = holder[:, v + 3]\n",
    "        vtk_array = numpy_to_vtk(var_data, deep=True)\n",
    "        vtk_array.SetName(var)\n",
    "        polydata.GetPointData().AddArray(vtk_array)\n",
    "\n",
    "    # Write to VTK file\n",
    "    writer = vtk.vtkXMLPolyDataWriter()\n",
    "    writer.SetFileName(f\"./vtkp/series1_{t}.vtp\")\n",
    "    writer.SetInputData(polydata)\n",
    "    writer.Write()"
   ]
  },
  {
   "cell_type": "code",
   "execution_count": null,
   "id": "ebaee87b",
   "metadata": {},
   "outputs": [],
   "source": []
  }
 ],
 "metadata": {
  "kernelspec": {
   "display_name": "Python 3 (ipykernel)",
   "language": "python",
   "name": "python3"
  },
  "language_info": {
   "codemirror_mode": {
    "name": "ipython",
    "version": 3
   },
   "file_extension": ".py",
   "mimetype": "text/x-python",
   "name": "python",
   "nbconvert_exporter": "python",
   "pygments_lexer": "ipython3",
   "version": "3.12.7"
  }
 },
 "nbformat": 4,
 "nbformat_minor": 5
}
